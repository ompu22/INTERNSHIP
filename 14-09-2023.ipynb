{
 "cells": [
  {
   "cell_type": "code",
   "execution_count": 5,
   "id": "d033b90f",
   "metadata": {},
   "outputs": [
    {
     "name": "stdout",
     "output_type": "stream",
     "text": [
      "h2 -> Python Matrix Exercises\n",
      "h2 -> Python Functions Exercises\n",
      "h2 -> Python Lambda Exercises\n",
      "h2 -> Python Pattern printing Exercises\n",
      "h2 -> Python DateTime Exercises\n",
      "h2 -> Python OOPS Exercises\n",
      "h2 -> Python Regex Exercises\n",
      "h2 -> Python LinkedList Exercises\n",
      "h2 -> Python Searching Exercises\n",
      "h2 -> Python Sorting Exercises\n",
      "h2 -> Python DSA Exercises\n",
      "h2 -> Python File Handling Exercises\n",
      "h2 -> Python CSV Exercises\n",
      "h2 -> Python JSON Exercises\n",
      "h2 -> Python OS Module Exercises\n",
      "h2 -> Python Tkinter Exercises\n",
      "h2 -> Python Web Scraping Exercises\n",
      "h2 -> Python Selenium Exercises\n",
      "h2 -> Python Matrix Exercises\n",
      "h2 -> Python Functions Exercises\n",
      "h2 -> Python Lambda Exercises\n",
      "h2 -> Python Pattern printing Exercises\n",
      "h2 -> Python DateTime Exercises\n",
      "h2 -> Python OOPS Exercises\n",
      "h2 -> Python Regex Exercises\n",
      "h2 -> Python LinkedList Exercises\n",
      "h2 -> Python Searching Exercises\n",
      "h2 -> Python Sorting Exercises\n",
      "h2 -> Python DSA Exercises\n",
      "h2 -> Python File Handling Exercises\n",
      "h2 -> Python CSV Exercises\n",
      "h2 -> Python JSON Exercises\n",
      "h2 -> Python OS Module Exercises\n",
      "h2 -> Python Tkinter Exercises\n",
      "h2 -> Python Web Scraping Exercises\n",
      "h2 -> Python Selenium Exercises\n",
      "h1 -> How to Scrape all PDF files in a Website?\n",
      "h2 -> Python3\n",
      "h2 -> Python3\n",
      "h2 -> Python3\n",
      "h2 -> Python3\n",
      "h2 -> Python3\n",
      "h2 -> Python3\n",
      "h3 -> Please Login to comment...\n",
      "h3 -> Improve your Coding Skills with Practice\n"
     ]
    }
   ],
   "source": [
    "\n",
    "import requests\n",
    "from bs4 import BeautifulSoup\n",
    " \n",
    "url_link = 'https://www.geeksforgeeks.org/how-to-scrape-all-pdf-files-in-a-website/'\n",
    "request = requests.get(url_link)\n",
    " \n",
    "Soup = BeautifulSoup(request.text, 'lxml')\n",
    "heading_tags = [\"h1\", \"h2\",\"h3\"]\n",
    "for tags in Soup.find_all(heading_tags):\n",
    "    print(tags.name + ' -> ' + tags.text.strip())"
   ]
  },
  {
   "cell_type": "code",
   "execution_count": null,
   "id": "02493abc",
   "metadata": {},
   "outputs": [],
   "source": []
  }
 ],
 "metadata": {
  "kernelspec": {
   "display_name": "Python 3 (ipykernel)",
   "language": "python",
   "name": "python3"
  },
  "language_info": {
   "codemirror_mode": {
    "name": "ipython",
    "version": 3
   },
   "file_extension": ".py",
   "mimetype": "text/x-python",
   "name": "python",
   "nbconvert_exporter": "python",
   "pygments_lexer": "ipython3",
   "version": "3.9.13"
  }
 },
 "nbformat": 4,
 "nbformat_minor": 5
}
